{
 "cells": [
  {
   "cell_type": "code",
   "execution_count": 6,
   "id": "b56b5dc1-43e4-4908-b58a-e7dd0278bc5a",
   "metadata": {},
   "outputs": [
    {
     "name": "stdout",
     "output_type": "stream",
     "text": [
      "Defaulting to user installation because normal site-packages is not writeable\n",
      "Requirement already satisfied: mysql-connector-python in c:\\users\\jhonjairopabongamas\\appdata\\roaming\\python\\python312\\site-packages (9.4.0)\n",
      "Note: you may need to restart the kernel to use updated packages.\n"
     ]
    }
   ],
   "source": [
    "pip install mysql-connector-python"
   ]
  },
  {
   "cell_type": "code",
   "execution_count": 1,
   "id": "3c5a76ec-335f-4323-97cf-8dbcf070d2fc",
   "metadata": {},
   "outputs": [],
   "source": [
    "\n",
    "\n",
    "import mysql.connector\n",
    "\n",
    "mydb=mysql.connector.connect(user='root',password='Student123@',host='localhost')\n"
   ]
  },
  {
   "cell_type": "code",
   "execution_count": 2,
   "id": "a196bed1-5301-4914-865b-1e6532c56f84",
   "metadata": {},
   "outputs": [
    {
     "name": "stdout",
     "output_type": "stream",
     "text": [
      "('4schema',)\n",
      "('information_schema',)\n",
      "('mysql',)\n",
      "('new_schema',)\n",
      "('new_schema1',)\n",
      "('newschema',)\n",
      "('performance_schema',)\n",
      "('sys',)\n",
      "('university',)\n",
      "('week3',)\n",
      "('week4',)\n"
     ]
    }
   ],
   "source": [
    "mycursor=mydb.cursor()\n",
    "mycursor.execute(\"SHOW DATABASES\")\n",
    "\n",
    "for x in mycursor:\n",
    "    print(x)"
   ]
  },
  {
   "cell_type": "code",
   "execution_count": 7,
   "id": "20eb6b20-5f89-4667-abd2-908b189f1de0",
   "metadata": {},
   "outputs": [
    {
     "name": "stdout",
     "output_type": "stream",
     "text": [
      "('S001', 'MICHAEL BEVAN', datetime.date(1960, 9, 15), Decimal('3.20'), 'CHATSWOOD')\n",
      "('S002', 'BRIAN LARA', datetime.date(1965, 2, 10), Decimal('4.00'), 'MARSFIELD')\n",
      "('S003', 'VIVAN RICHARDS', datetime.date(1958, 11, 12), Decimal('4.50'), 'BURWOOD')\n",
      "('S004', 'JAVED MIANDAD', datetime.date(1966, 5, 5), Decimal('3.50'), 'RYDE')\n",
      "('S005', 'VIRAT KOHLI', datetime.date(1988, 10, 15), Decimal('4.30'), 'AUBURN')\n",
      "('S006', 'BABAR AZAM', datetime.date(1991, 4, 20), Decimal('4.20'), 'LAKEMBA')\n",
      "('S007', 'KUMAR SANGAKARA', datetime.date(1980, 1, 26), Decimal('3.70'), 'REDFERN')\n"
     ]
    }
   ],
   "source": [
    "cnx=mysql.connector.connect(user='root',password='Student123@',host='localhost',database='week4')\n",
    "\n",
    "mycursor=cnx.cursor()\n",
    "mycursor.execute(\"select * from student\")\n",
    "\n",
    "for x in mycursor:\n",
    "    print(x)"
   ]
  },
  {
   "cell_type": "code",
   "execution_count": null,
   "id": "2c1d851f-b6f6-4cd0-a5e1-888783ff9ea6",
   "metadata": {},
   "outputs": [],
   "source": []
  }
 ],
 "metadata": {
  "kernelspec": {
   "display_name": "Python 3 (ipykernel)",
   "language": "python",
   "name": "python3"
  },
  "language_info": {
   "codemirror_mode": {
    "name": "ipython",
    "version": 3
   },
   "file_extension": ".py",
   "mimetype": "text/x-python",
   "name": "python",
   "nbconvert_exporter": "python",
   "pygments_lexer": "ipython3",
   "version": "3.12.7"
  }
 },
 "nbformat": 4,
 "nbformat_minor": 5
}
